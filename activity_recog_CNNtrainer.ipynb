{
 "cells": [
  {
   "cell_type": "code",
   "execution_count": 1,
   "metadata": {},
   "outputs": [],
   "source": [
    "%matplotlib inline\n",
    "import torch\n",
    "import torch.nn as nn\n",
    "import torch.nn.functional as F\n",
    "from torchvision import transforms,datasets, models\n",
    "import torch.optim as optim\n",
    "from torch.autograd import Variable\n",
    "# import torchvision\n",
    "\n",
    "import numpy as np\n",
    "import matplotlib.pyplot as plt\n",
    "import copy\n",
    "import time"
   ]
  },
  {
   "cell_type": "markdown",
   "metadata": {},
   "source": [
    "<h2> 1. Data loading </h2>"
   ]
  },
  {
   "cell_type": "code",
   "execution_count": 2,
   "metadata": {},
   "outputs": [],
   "source": [
    "# Check GPU availability\n",
    "use_gpu = torch.cuda.is_available()\n",
    "if use_gpu:\n",
    "    pinMem = True\n",
    "else:\n",
    "    pinMem = False"
   ]
  },
  {
   "cell_type": "code",
   "execution_count": 3,
   "metadata": {},
   "outputs": [],
   "source": [
    "train_dir = r\"C:\\Users\\smitr\\Desktop\\train_10class\"\n",
    "valid_dir = r\"C:\\Users\\smitr\\Desktop\\test_10class\"\n",
    "\n",
    "apply_transforms = transforms.Compose([\n",
    "    transforms.Resize(256),\n",
    "    transforms.CenterCrop(224),\n",
    "    transforms.ToTensor()])\n",
    "\n",
    "# Training dataloader\n",
    "train_dataset = datasets.ImageFolder(train_dir, transform=apply_transforms)\n",
    "trainLoader = torch.utils.data.DataLoader(train_dataset, batch_size=10, shuffle=True, num_workers=4, pin_memory=pinMem)\n",
    "\n",
    "# Testing dataloader\n",
    "test_dataset = datasets.ImageFolder(valid_dir, transform=apply_transforms)\n",
    "testLoader = torch.utils.data.DataLoader(test_dataset, batch_size=10, shuffle=False, num_workers=4, pin_memory=pinMem)"
   ]
  },
  {
   "cell_type": "code",
   "execution_count": 4,
   "metadata": {},
   "outputs": [
    {
     "name": "stdout",
     "output_type": "stream",
     "text": [
      "No. of samples in train set: 54794\n",
      "No. of samples in test set: 13850\n"
     ]
    }
   ],
   "source": [
    "# Size of train and test datasets\n",
    "print('No. of samples in train set: '+str(len(trainLoader.dataset)))\n",
    "print('No. of samples in test set: '+str(len(testLoader.dataset)))"
   ]
  },
  {
   "cell_type": "markdown",
   "metadata": {},
   "source": [
    "<h2> Define network architecture </h2>"
   ]
  },
  {
   "cell_type": "code",
   "execution_count": 5,
   "metadata": {},
   "outputs": [],
   "source": [
    "# Mobilenet may also be used.\n",
    "#net = models.mobilenet_v2(pretrained=True)\n",
    "#print(net)\n",
    "## Modifying the last layer for 10 classes\n",
    "#net.classifier[1] = nn.Linear(1280, 10)\n",
    "\n",
    "net = models.resnet18(pretrained=True)\n",
    "# Modifying the last layer for 10 classes\n",
    "net.fc = nn.Linear(512,10)"
   ]
  },
  {
   "cell_type": "code",
   "execution_count": 6,
   "metadata": {},
   "outputs": [
    {
     "name": "stdout",
     "output_type": "stream",
     "text": [
      "torch.Size([64, 3, 7, 7])\n",
      "torch.Size([64])\n",
      "torch.Size([64])\n",
      "torch.Size([64, 64, 3, 3])\n",
      "torch.Size([64])\n",
      "torch.Size([64])\n",
      "torch.Size([64, 64, 3, 3])\n",
      "torch.Size([64])\n",
      "torch.Size([64])\n",
      "torch.Size([64, 64, 3, 3])\n",
      "torch.Size([64])\n",
      "torch.Size([64])\n",
      "torch.Size([64, 64, 3, 3])\n",
      "torch.Size([64])\n",
      "torch.Size([64])\n",
      "torch.Size([128, 64, 3, 3])\n",
      "torch.Size([128])\n",
      "torch.Size([128])\n",
      "torch.Size([128, 128, 3, 3])\n",
      "torch.Size([128])\n",
      "torch.Size([128])\n",
      "torch.Size([128, 64, 1, 1])\n",
      "torch.Size([128])\n",
      "torch.Size([128])\n",
      "torch.Size([128, 128, 3, 3])\n",
      "torch.Size([128])\n",
      "torch.Size([128])\n",
      "torch.Size([128, 128, 3, 3])\n",
      "torch.Size([128])\n",
      "torch.Size([128])\n",
      "torch.Size([256, 128, 3, 3])\n",
      "torch.Size([256])\n",
      "torch.Size([256])\n",
      "torch.Size([256, 256, 3, 3])\n",
      "torch.Size([256])\n",
      "torch.Size([256])\n",
      "torch.Size([256, 128, 1, 1])\n",
      "torch.Size([256])\n",
      "torch.Size([256])\n",
      "torch.Size([256, 256, 3, 3])\n",
      "torch.Size([256])\n",
      "torch.Size([256])\n",
      "torch.Size([256, 256, 3, 3])\n",
      "torch.Size([256])\n",
      "torch.Size([256])\n",
      "torch.Size([512, 256, 3, 3])\n",
      "torch.Size([512])\n",
      "torch.Size([512])\n",
      "torch.Size([512, 512, 3, 3])\n",
      "torch.Size([512])\n",
      "torch.Size([512])\n",
      "torch.Size([512, 256, 1, 1])\n",
      "torch.Size([512])\n",
      "torch.Size([512])\n",
      "torch.Size([512, 512, 3, 3])\n",
      "torch.Size([512])\n",
      "torch.Size([512])\n",
      "torch.Size([512, 512, 3, 3])\n",
      "torch.Size([512])\n",
      "torch.Size([512])\n",
      "torch.Size([10, 512])\n",
      "torch.Size([10])\n",
      "No.of parameters:  11181642\n"
     ]
    }
   ],
   "source": [
    "# Count no.of trainable parameters\n",
    "total_params = 0\n",
    "for params in net.parameters():\n",
    "    print(params.size())\n",
    "    total_params += np.sum(np.prod(params.size()))\n",
    "print(\"No.of parameters: \",total_params)"
   ]
  },
  {
   "cell_type": "code",
   "execution_count": 7,
   "metadata": {},
   "outputs": [
    {
     "name": "stdout",
     "output_type": "stream",
     "text": [
      "GPU is available !!!\n"
     ]
    }
   ],
   "source": [
    "if use_gpu:\n",
    "    print(\"GPU is available !!!\")\n",
    "    net = net.cuda()"
   ]
  },
  {
   "cell_type": "markdown",
   "metadata": {},
   "source": [
    "<h2> Define loss function & optimizer </h2>"
   ]
  },
  {
   "cell_type": "code",
   "execution_count": 8,
   "metadata": {},
   "outputs": [],
   "source": [
    "criterion = nn.NLLLoss()\n",
    "optimizer = optim.Adam(net.fc.parameters(), lr=1e-4)   # Just train the last layer"
   ]
  },
  {
   "cell_type": "code",
   "execution_count": 9,
   "metadata": {},
   "outputs": [
    {
     "name": "stderr",
     "output_type": "stream",
     "text": [
      "c:\\users\\smitr\\appdata\\local\\programs\\python\\python36\\lib\\site-packages\\ipykernel_launcher.py:35: UserWarning: Implicit dimension choice for log_softmax has been deprecated. Change the call to include dim=X as an argument.\n",
      "c:\\users\\smitr\\appdata\\local\\programs\\python\\python36\\lib\\site-packages\\ipykernel_launcher.py:67: UserWarning: Implicit dimension choice for log_softmax has been deprecated. Change the call to include dim=X as an argument.\n"
     ]
    },
    {
     "name": "stdout",
     "output_type": "stream",
     "text": [
      "Iteration: 1 /10;  Training Loss: 0.059708 ; Training Acc: 87.285\n",
      "Iteration: 1 /10;  Testing Loss: 0.273305 ; Testing Acc: 90.845\n",
      "Time consumed: 10m 10s\n",
      "Iteration: 2 /10;  Training Loss: 0.017876 ; Training Acc: 96.452\n",
      "Iteration: 2 /10;  Testing Loss: 0.104814 ; Testing Acc: 89.141\n",
      "Time consumed: 10m 51s\n",
      "Iteration: 3 /10;  Training Loss: 0.011930 ; Training Acc: 97.460\n",
      "Iteration: 3 /10;  Testing Loss: 0.074854 ; Testing Acc: 91.913\n",
      "Time consumed: 10m 9s\n",
      "Iteration: 4 /10;  Training Loss: 0.009362 ; Training Acc: 97.887\n",
      "Iteration: 4 /10;  Testing Loss: 0.064942 ; Testing Acc: 90.830\n",
      "Time consumed: 9m 49s\n",
      "Iteration: 5 /10;  Training Loss: 0.007849 ; Training Acc: 98.213\n",
      "Iteration: 5 /10;  Testing Loss: 0.064239 ; Testing Acc: 89.278\n",
      "Time consumed: 9m 49s\n",
      "Iteration: 6 /10;  Training Loss: 0.006807 ; Training Acc: 98.409\n",
      "Iteration: 6 /10;  Testing Loss: 0.055775 ; Testing Acc: 91.487\n",
      "Time consumed: 9m 54s\n",
      "Iteration: 7 /10;  Training Loss: 0.006310 ; Training Acc: 98.471\n",
      "Iteration: 7 /10;  Testing Loss: 0.056737 ; Testing Acc: 89.509\n",
      "Time consumed: 9m 59s\n",
      "Iteration: 8 /10;  Training Loss: 0.005702 ; Training Acc: 98.551\n",
      "Iteration: 8 /10;  Testing Loss: 0.055019 ; Testing Acc: 90.238\n",
      "Time consumed: 9m 54s\n",
      "Iteration: 9 /10;  Training Loss: 0.005391 ; Training Acc: 98.677\n",
      "Iteration: 9 /10;  Testing Loss: 0.052164 ; Testing Acc: 90.809\n",
      "Time consumed: 9m 48s\n",
      "Iteration: 10 /10;  Training Loss: 0.005053 ; Training Acc: 98.801\n",
      "Iteration: 10 /10;  Testing Loss: 0.047305 ; Testing Acc: 90.787\n",
      "Time consumed: 9m 45s\n",
      "Training completed in 100m 9s\n"
     ]
    }
   ],
   "source": [
    "iterations = 10\n",
    "\n",
    "trainLoss = []\n",
    "trainAcc = []\n",
    "testLoss = []\n",
    "testAcc = []\n",
    "\n",
    "start = time.time()\n",
    "for epoch in range(iterations):\n",
    "    epochStart = time.time()\n",
    "    runningLoss = 0.0   \n",
    "    avgTotalLoss = 0.0\n",
    "    running_correct = 0   \n",
    "    \n",
    "    net.train(True) # For training \n",
    "    batchNum = 1\n",
    "    for data in trainLoader:\n",
    "        inputs,labels = data\n",
    "        # Wrap them in Variable\n",
    "        if use_gpu:\n",
    "            inputs, labels = Variable(inputs.cuda()), Variable(labels.cuda())\n",
    "            outputs = net(inputs)\n",
    "            _, predicted = torch.max(outputs.data, 1)          \n",
    "        else:\n",
    "            inputs, labels = Variable(inputs), Variable(labels)\n",
    "            outputs = net(inputs)\n",
    "            _, predicted = torch.max(outputs.data, 1)\n",
    "        \n",
    "        running_correct += (predicted.cpu() == labels.cpu()).sum().item()\n",
    "       \n",
    "        # Initialize gradients to zero\n",
    "        optimizer.zero_grad()             \n",
    "        \n",
    "        # Compute loss/error\n",
    "        loss = criterion(F.log_softmax(outputs), labels)\n",
    "        # Backpropagate loss and compute gradients\n",
    "        loss.backward()\n",
    "        # Update the network parameters\n",
    "        optimizer.step()\n",
    "        # Accumulate loss per batch\n",
    "        runningLoss += loss.data.item()   \n",
    "        batchNum += 1\n",
    "\n",
    "    avgTrainAcc = running_correct/float(len(trainLoader.dataset))\n",
    "    avgTrainLoss = runningLoss/float(len(trainLoader.dataset))    \n",
    "    trainAcc.append(avgTrainAcc)\n",
    "    trainLoss.append(avgTrainLoss)  \n",
    "    \n",
    "    # Evaluating performance on test set for each epoch\n",
    "    net.train(False) # For testing [Affects batch-norm and dropout layers (if any)]\n",
    "    running_correct = 0 \n",
    "    for data in testLoader:\n",
    "        inputs,labels = data\n",
    "        # Wrap them in Variable\n",
    "        if use_gpu:\n",
    "            inputs, labels= Variable(inputs.cuda()), Variable(labels.cuda())\n",
    "            outputs = net(inputs)\n",
    "            _, predicted = torch.max(outputs.data, 1)  \n",
    "        else:\n",
    "            inputs, labels = Variable(inputs), Variable(labels)\n",
    "            # Model 1\n",
    "            outputs = net(inputs)\n",
    "            _, predicted = torch.max(outputs.data, 1)\n",
    "                \n",
    "        running_correct += (predicted.cpu() == labels.cpu()).sum().item()\n",
    "        \n",
    "        loss = criterion(F.log_softmax(outputs), labels)\n",
    "        \n",
    "        runningLoss += loss.data.item()  \n",
    "\n",
    "    avgTestLoss = runningLoss/float(len(testLoader.dataset))\n",
    "    avgTestAcc = running_correct/float(len(testLoader.dataset))\n",
    "    testAcc.append(avgTestAcc)  \n",
    "    testLoss.append(avgTestLoss)\n",
    "    \n",
    "    epochEnd = time.time()-epochStart\n",
    "    print('Iteration: {:.0f} /{:.0f};  Training Loss: {:.6f} ; Training Acc: {:.3f}'\\\n",
    "          .format(epoch + 1,iterations,avgTrainLoss,avgTrainAcc*100))\n",
    "    print('Iteration: {:.0f} /{:.0f};  Testing Loss: {:.6f} ; Testing Acc: {:.3f}'\\\n",
    "          .format(epoch + 1,iterations,avgTestLoss,avgTestAcc*100))\n",
    "   \n",
    "    print('Time consumed: {:.0f}m {:.0f}s'.format(epochEnd//60,epochEnd%60))\n",
    "end = time.time()-start\n",
    "print('Training completed in {:.0f}m {:.0f}s'.format(end//60,end%60))\n"
   ]
  },
  {
   "cell_type": "markdown",
   "metadata": {},
   "source": [
    "**Close to 91% accuracy !! That's impressive.**"
   ]
  },
  {
   "cell_type": "code",
   "execution_count": 10,
   "metadata": {},
   "outputs": [
    {
     "data": {
      "text/plain": [
       "Text(0, 0.5, 'Accuracy')"
      ]
     },
     "execution_count": 10,
     "metadata": {},
     "output_type": "execute_result"
    },
    {
     "data": {
      "image/png": "[encoded data removed]",
      "text/plain": [
       "<Figure size 432x288 with 1 Axes>"
      ]
     },
     "metadata": {},
     "output_type": "display_data"
    },
    {
     "data": {
      "image/png": "[encoded data removed]",
      "text/plain": [
       "<Figure size 432x288 with 1 Axes>"
      ]
     },
     "metadata": {},
     "output_type": "display_data"
    }
   ],
   "source": [
    " # Plotting training loss vs Epochs\n",
    "fig1 = plt.figure(1)        \n",
    "plt.plot(range(iterations),trainLoss,'r-',label='train')  \n",
    "plt.plot(range(iterations),testLoss,'g-',label='test') \n",
    "\n",
    "plt.legend(loc='upper left')\n",
    "plt.xlabel('Epochs')\n",
    "plt.ylabel('Loss')   \n",
    "\n",
    "# Plotting testing accuracy vs Epochs\n",
    "fig2 = plt.figure(2)        \n",
    "plt.plot(range(iterations),trainAcc,'r-',label='train')    \n",
    "plt.plot(range(iterations),testAcc,'g-',label='test')        \n",
    "\n",
    "plt.legend(loc='upper left')\n",
    "plt.xlabel('Epochs')\n",
    "plt.ylabel('Accuracy')  "
   ]
  },
  {
   "cell_type": "code",
   "execution_count": 11,
   "metadata": {},
   "outputs": [
    {
     "data": {
      "text/plain": [
       "['ApplyEyeMakeup',\n",
       " 'ApplyLipstick',\n",
       " 'Archery',\n",
       " 'BabyCrawling',\n",
       " 'BalanceBeam',\n",
       " 'BandMarching',\n",
       " 'BaseballPitch',\n",
       " 'Basketball',\n",
       " 'BasketballDunk',\n",
       " 'BenchPress']"
      ]
     },
     "execution_count": 11,
     "metadata": {},
     "output_type": "execute_result"
    }
   ],
   "source": [
    "import os\n",
    "\n",
    "os.listdir(train_dir)"
   ]
  },
  {
   "cell_type": "code",
   "execution_count": 12,
   "metadata": {},
   "outputs": [
    {
     "name": "stdout",
     "output_type": "stream",
     "text": [
      "Accuracy of ApplyEyeMakeup : 96 %\n",
      "Accuracy of ApplyLipstick : 98 %\n",
      "Accuracy of Archery : 84 %\n",
      "Accuracy of BabyCrawling : 98 %\n",
      "Accuracy of BalanceBeam : 77 %\n",
      "Accuracy of BandMarching : 97 %\n",
      "Accuracy of BaseballPitch : 99 %\n",
      "Accuracy of Basketball : 93 %\n",
      "Accuracy of BasketballDunk : 83 %\n",
      "Accuracy of BenchPress : 77 %\n"
     ]
    }
   ],
   "source": [
    "# Individual class performance\n",
    "classes = os.listdir(train_dir)\n",
    "\n",
    "class_correct = list(0. for i in range(10))   # Number of classes = 10\n",
    "class_total = list(0. for i in range(10))\n",
    "\n",
    "Batchsize = 10\n",
    "\n",
    "with torch.no_grad():   # similar to net.train(False)\n",
    "    for data in testLoader:\n",
    "        images, labels = data\n",
    "        images = Variable(images.cuda())\n",
    "        outputs = net(images)\n",
    "        _, predicted = torch.max(outputs, 1)\n",
    "        predicted = predicted.cpu()\n",
    "        c = (predicted == labels).squeeze()\n",
    "        for i in range(Batchsize):\n",
    "            label = labels[i]\n",
    "            class_correct[label] += c[i].item()\n",
    "            class_total[label] += 1\n",
    "\n",
    "\n",
    "for i in range(10):\n",
    "    print('Accuracy of %5s : %2d %%' % (\n",
    "        classes[i], 100 * class_correct[i] / class_total[i]))"
   ]
  },
  {
   "cell_type": "markdown",
   "metadata": {},
   "source": [
    "<h2> Saving trained model </h2>"
   ]
  },
  {
   "cell_type": "code",
   "execution_count": 13,
   "metadata": {},
   "outputs": [],
   "source": [
    "torch.save(net.state_dict(), 'resnetPre_fcOnly10class_ucf101_10adam_1e-4_b10.pt')"
   ]
  },
  {
   "cell_type": "code",
   "execution_count": null,
   "metadata": {},
   "outputs": [],
   "source": []
  }
 ],
 "metadata": {
  "kernelspec": {
   "display_name": "Python 3",
   "language": "python",
   "name": "python3"
  },
  "language_info": {
   "codemirror_mode": {
    "name": "ipython",
    "version": 3
   },
   "file_extension": ".py",
   "mimetype": "text/x-python",
   "name": "python",
   "nbconvert_exporter": "python",
   "pygments_lexer": "ipython3",
   "version": "3.6.5"
  }
 },
 "nbformat": 4,
 "nbformat_minor": 2
}
