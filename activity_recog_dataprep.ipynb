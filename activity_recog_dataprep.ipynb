{
 "cells": [
  {
   "cell_type": "markdown",
   "metadata": {},
   "source": [
    "<h2> 1. Data preparation </h2>"
   ]
  },
  {
   "cell_type": "code",
   "execution_count": 8,
   "metadata": {},
   "outputs": [],
   "source": [
    "# Importing important libraries\n",
    "import numpy as np\n",
    "import os \n",
    "import shutil\n",
    "import pickle\n",
    "import cv2\n",
    "import time"
   ]
  },
  {
   "cell_type": "markdown",
   "metadata": {},
   "source": [
    "<h4> 1.1 Extracting frames from video </h4>"
   ]
  },
  {
   "cell_type": "code",
   "execution_count": 12,
   "metadata": {},
   "outputs": [],
   "source": [
    "def video_to_frames(input_loc, output_loc):\n",
    "    \"\"\"Function to extract frames from input video file (any format : .mp4, .avi, .MTS)\n",
    "    and save them as separate frames in an output directory.\n",
    "    Args:\n",
    "        input_loc: Input video file.\n",
    "        output_loc: Output directory to save the frames.\n",
    "    Returns:\n",
    "        None\n",
    "    \"\"\"\n",
    "    try:\n",
    "        os.mkdir(output_loc)\n",
    "    except OSError:\n",
    "        pass\n",
    "    # Start capturing the feed\n",
    "    cap = cv2.VideoCapture(input_loc)\n",
    "    # Find the number of frames\n",
    "    video_length = int(cap.get(cv2.CAP_PROP_FRAME_COUNT)) - 1\n",
    "    # Will capture 50 frames from the whole video\n",
    "    frame_threshold = 50\n",
    "    frame_count = 0\n",
    "    # Start converting the video\n",
    "    while cap.isOpened():\n",
    "        # Extract the frame\n",
    "        ret, frame = cap.read()\n",
    "        # Write the results back to output location.\n",
    "        cv2.imwrite(output_loc + \"\\\\%#05d.jpg\" % (frame_count+1), frame)\n",
    "        frame_count += 1\n",
    "        # If frame threshold is reached stop extraction\n",
    "        if (frame_count > (frame_threshold-1)):\n",
    "            # Release the feed\n",
    "            cap.release()\n",
    "            break\n",
    "    return"
   ]
  },
  {
   "cell_type": "code",
   "execution_count": 20,
   "metadata": {},
   "outputs": [],
   "source": [
    "srcPath = \"C:\\\\Users\\\\smitr\\\\Downloads\\\\UCF-10\\\\\"\n",
    "dst_path = r\"C:\\Users\\smitr\\Desktop\\extracted_frames\"\n",
    "os.mkdir(dst_path)"
   ]
  },
  {
   "cell_type": "code",
   "execution_count": 21,
   "metadata": {},
   "outputs": [
    {
     "name": "stdout",
     "output_type": "stream",
     "text": [
      "Time taken for completing class ApplyEyeMakeup is 82.35307931900024 secs\n",
      "Time taken for completing class ApplyLipstick is 146.15206480026245 secs\n",
      "Time taken for completing class Archery is 219.55078864097595 secs\n",
      "Time taken for completing class BabyCrawling is 273.1600503921509 secs\n",
      "Time taken for completing class BalanceBeam is 317.40345215797424 secs\n",
      "Time taken for completing class BandMarching is 408.73483395576477 secs\n",
      "Time taken for completing class BaseballPitch is 473.7194724082947 secs\n",
      "Time taken for completing class Basketball is 580.9868850708008 secs\n",
      "Time taken for completing class BasketballDunk is 697.4812254905701 secs\n",
      "Time taken for completing class BenchPress is 822.8519630432129 secs\n",
      "Time taken for completion: 822.8519630432129 secs\n"
     ]
    }
   ],
   "source": [
    "classes = os.listdir(srcPath)\n",
    "dst_dir = dst_path + \"\\\\\"\n",
    "start = time.time()\n",
    "\n",
    "for c in classes:\n",
    "    files = os.listdir(srcPath+c)\n",
    "    os.mkdir(dst_dir + c)\n",
    "    for f in files:\n",
    "        # Video filepath\n",
    "        filename = srcPath + c + '\\\\' + f \n",
    "        # Filepath of images to be extracted\n",
    "        dst_path  = dst_dir + c + '\\\\' + f[:-4]\n",
    "        video_to_frames(filename, dst_path)\n",
    "    print(\"Time taken for completing class {} is {} secs\".format(c, time.time()-start))\n",
    "        \n",
    "print(\"Time taken for completion: {} secs\".format(time.time()-start))"
   ]
  },
  {
   "cell_type": "markdown",
   "metadata": {},
   "source": [
    "<h4> 1.2 Train test split </h4>"
   ]
  },
  {
   "cell_type": "code",
   "execution_count": 24,
   "metadata": {},
   "outputs": [],
   "source": [
    "trainList = []\n",
    "testList  = []\n",
    "path = r\"C:\\Users\\smitr\\Desktop\\extracted_frames\"\n",
    "\n",
    "classes = os.listdir(path)\n",
    "for c in classes:\n",
    "    trainIndvList = []\n",
    "    vidList = os.listdir(path + \"\\\\\" + c)\n",
    "    vidList.sort()\n",
    "    for item in vidList:\n",
    "        # video name eg: v_ApplyEyeMakeup_g01_c01 => g01\n",
    "        user = item.split('_')[2]\n",
    "        if (user not in trainIndvList):\n",
    "            if len(trainIndvList) < 20:\n",
    "                trainIndvList.append(user) # Keeping track of train-test list\n",
    "                trainList.append(item) # Adding the video name to train list\n",
    "            else:\n",
    "                testList.append(item) # Adding the video name to test list\n",
    "        else:\n",
    "            trainList.append(item)"
   ]
  },
  {
   "cell_type": "code",
   "execution_count": 27,
   "metadata": {},
   "outputs": [],
   "source": [
    "with open('trainList_10class.pckl','wb') as f:\n",
    "    pickle.dump(trainList,f)\n",
    "with open('testList_10class.pckl','wb') as f:\n",
    "    pickle.dump(testList,f)"
   ]
  },
  {
   "cell_type": "code",
   "execution_count": 33,
   "metadata": {},
   "outputs": [],
   "source": [
    "# Filtering train set\n",
    "count = 1\n",
    "trainDelList = []\n",
    "for item in trainList:\n",
    "    cl = item.split('_')[1]\n",
    "    src_path = path + \"\\\\\" + cl + \"\\\\\" + item\n",
    "    fNames = os.listdir(src_path)\n",
    "    fNums = [int(x[:-4].split('_')[-1]) for x in fnames]\n",
    "    if fNums[-1]-len(fNames)>1:\n",
    "        trainDelList.append(path + \"\\\\\" + cl + '\\\\' + item)\n",
    "    count += 1    \n",
    "for item in trainDelList:\n",
    "    shutil.rmtree(item)"
   ]
  },
  {
   "cell_type": "code",
   "execution_count": 34,
   "metadata": {},
   "outputs": [],
   "source": [
    "# Filtering test set\n",
    "count = 1\n",
    "testDelList = []\n",
    "for item in testList:\n",
    "    cl = item.split('_')[1]\n",
    "    src_path = path + \"\\\\\" + cl + \"\\\\\" + item\n",
    "    fNames = os.listdir(src_path)\n",
    "    fNums = [int(x[:-4].split('_')[-1]) for x in fnames]\n",
    "    if fNums[-1]-len(fNames)>1:\n",
    "        testDelList.append(path + \"\\\\\" + cl + '\\\\' + item)\n",
    "    count += 1    \n",
    "for item in testDelList:\n",
    "    shutil.rmtree(item)"
   ]
  },
  {
   "cell_type": "code",
   "execution_count": 35,
   "metadata": {},
   "outputs": [
    {
     "data": {
      "text/plain": [
       "['ApplyEyeMakeup',\n",
       " 'ApplyLipstick',\n",
       " 'Archery',\n",
       " 'BabyCrawling',\n",
       " 'BalanceBeam',\n",
       " 'BandMarching',\n",
       " 'BaseballPitch',\n",
       " 'Basketball',\n",
       " 'BasketballDunk',\n",
       " 'BenchPress']"
      ]
     },
     "execution_count": 35,
     "metadata": {},
     "output_type": "execute_result"
    }
   ],
   "source": [
    "classes"
   ]
  },
  {
   "cell_type": "code",
   "execution_count": 36,
   "metadata": {},
   "outputs": [
    {
     "name": "stdout",
     "output_type": "stream",
     "text": [
      "Created training directory\n",
      "Created testing directory\n"
     ]
    }
   ],
   "source": [
    "train_dir = r\"C:\\Users\\smitr\\Desktop\\train_10class\"\n",
    "os.mkdir(train_dir)\n",
    "print(\"Created training directory\")\n",
    "\n",
    "test_dir = r\"C:\\Users\\smitr\\Desktop\\test_10class\"\n",
    "os.mkdir(test_dir)\n",
    "print(\"Created testing directory\")"
   ]
  },
  {
   "cell_type": "code",
   "execution_count": 37,
   "metadata": {},
   "outputs": [],
   "source": [
    "path = r\"C:\\Users\\smitr\\Desktop\\extracted_frames\"\n",
    "\n",
    "for class_ in classes:\n",
    "    src_path = path + \"\\\\\" + class_\n",
    "    files = os.listdir(src_path)\n",
    "    train_num = np.floor(len(files)*0.8)\n",
    "    test_num = len(files) - train_num\n",
    "    \n",
    "    for idx in range(int(train_num)):\n",
    "        train_dst = train_dir + \"\\\\\" + class_ + \"\\\\\" + files[idx]\n",
    "        shutil.copytree(src_path+\"\\\\\"+files[idx], train_dst)\n",
    "\n",
    "    for idx2 in range(int(train_num),int(train_num+test_num)):\n",
    "        test_dst = test_dir + \"\\\\\" + class_ + \"\\\\\" + files[idx2]\n",
    "        shutil.copytree(src_path+\"\\\\\"+files[idx2], test_dst)"
   ]
  },
  {
   "cell_type": "code",
   "execution_count": null,
   "metadata": {},
   "outputs": [],
   "source": []
  }
 ],
 "metadata": {
  "kernelspec": {
   "display_name": "Python 3",
   "language": "python",
   "name": "python3"
  },
  "language_info": {
   "codemirror_mode": {
    "name": "ipython",
    "version": 3
   },
   "file_extension": ".py",
   "mimetype": "text/x-python",
   "name": "python",
   "nbconvert_exporter": "python",
   "pygments_lexer": "ipython3",
   "version": "3.6.5"
  }
 },
 "nbformat": 4,
 "nbformat_minor": 2
}
